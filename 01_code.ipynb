{
 "cells": [
  {
   "cell_type": "code",
   "execution_count": null,
   "id": "efe78920",
   "metadata": {},
   "outputs": [],
   "source": [
    "#|default_exp code"
   ]
  },
  {
   "cell_type": "markdown",
   "id": "3d773712-12fe-440e-891f-36f59666dfde",
   "metadata": {},
   "source": [
    "# code source"
   ]
  },
  {
   "cell_type": "markdown",
   "id": "7a69cad9",
   "metadata": {},
   "source": [
    "In language model clients it's often useful to have a 'code interpreter' -- this is something that runs code, and generally outputs the result of the last expression (i.e like IPython or Jupyter). Furthermore, we generally want some time limit on running this code. This module provides a `python()` function that provides this functionality"
   ]
  },
  {
   "cell_type": "code",
   "execution_count": null,
   "id": "033c76fd",
   "metadata": {},
   "outputs": [],
   "source": [
    "#| exports\n",
    "import ast, time, signal\n",
    "from fastcore.utils import *"
   ]
  },
  {
   "cell_type": "code",
   "execution_count": null,
   "id": "4703296a",
   "metadata": {},
   "outputs": [],
   "source": [
    "#| exports\n",
    "def _copy_loc(new, orig):\n",
    "    \"Copy location information from original node to new node and all children.\"\n",
    "    new = ast.copy_location(new, orig)\n",
    "    for field, o in ast.iter_fields(new):\n",
    "        if isinstance(o, ast.AST): setattr(new, field, _copy_loc(o, orig))\n",
    "        elif isinstance(o, list): setattr(new, field, [_copy_loc(value, orig) for value in o])\n",
    "    return new"
   ]
  },
  {
   "cell_type": "markdown",
   "id": "6c0d4922",
   "metadata": {},
   "source": [
    "This is an internal function that's needed for `_run` to ensure that location information is available in the abstract syntax tree (AST), since otherwise python complains."
   ]
  },
  {
   "cell_type": "code",
   "execution_count": null,
   "id": "84cadbec-0b34-4669-bfc9-6bf790816035",
   "metadata": {},
   "outputs": [],
   "source": [
    "#| exports\n",
    "def _run(code:str ):\n",
    "    \"Run `code`, returning final expression (similar to IPython)\"\n",
    "    tree = ast.parse(code)\n",
    "    last_node = tree.body[-1] if tree.body else None\n",
    "    \n",
    "    # If the last node is an expression, modify the AST to capture the result\n",
    "    if isinstance(last_node, ast.Expr):\n",
    "        tgt = [ast.Name(id='_result', ctx=ast.Store())]\n",
    "        assign_node = ast.Assign(targets=tgt, value=last_node.value)\n",
    "        tree.body[-1] = _copy_loc(assign_node, last_node)\n",
    "\n",
    "    compiled_code = compile(tree, filename='<ast>', mode='exec')\n",
    "    namespace = {}\n",
    "    exec(compiled_code, namespace)\n",
    "    return namespace.get('_result', None)"
   ]
  },
  {
   "cell_type": "markdown",
   "id": "92ca7f47",
   "metadata": {},
   "source": [
    "This is the internal function used to actually run the code -- we pull off the last AST to see if it's an expression (i.e something that returns a value), and if so, we store it to a special `_result` variable so we can return it."
   ]
  },
  {
   "cell_type": "code",
   "execution_count": null,
   "id": "15b72cb2",
   "metadata": {},
   "outputs": [
    {
     "data": {
      "text/plain": [
       "479001600"
      ]
     },
     "execution_count": null,
     "metadata": {},
     "output_type": "execute_result"
    }
   ],
   "source": [
    "_run('import math;math.factorial(12)')"
   ]
  },
  {
   "cell_type": "code",
   "execution_count": null,
   "id": "81857615",
   "metadata": {},
   "outputs": [],
   "source": [
    "#| exports\n",
    "def python(code, # Code to execute\n",
    "           timeout=5 # Maximum run time in seconds before a `TimeoutError` is raised\n",
    "          ): # Result of last node, if it's an expression, or `None` otherwise\n",
    "    \"Executes python `code` with `timeout` and returning final expression (similar to IPython).\"\n",
    "    def handler(*args): raise TimeoutError()\n",
    "    signal.signal(signal.SIGALRM, handler)\n",
    "    signal.alarm(timeout)\n",
    "    try: return _run(code)\n",
    "    finally: signal.alarm(0)"
   ]
  },
  {
   "cell_type": "markdown",
   "id": "b6b9324f",
   "metadata": {},
   "source": [
    "There's no builtin security here -- you should generally use this in a sandbox, or alternatively prompt before running code. It can handle multiline function definitions, and pretty much any other normal Python syntax."
   ]
  },
  {
   "cell_type": "code",
   "execution_count": null,
   "id": "69d74f4d",
   "metadata": {},
   "outputs": [
    {
     "data": {
      "text/plain": [
       "120"
      ]
     },
     "execution_count": null,
     "metadata": {},
     "output_type": "execute_result"
    }
   ],
   "source": [
    "python(\"\"\"def factorial(n):\n",
    "    if n == 0 or n == 1: return 1\n",
    "    else: return n * factorial(n-1)\n",
    "factorial(5)\"\"\")"
   ]
  },
  {
   "cell_type": "markdown",
   "id": "6c629442",
   "metadata": {},
   "source": [
    "If the code takes longer than `timeout` then it raises a `TimeoutError`."
   ]
  },
  {
   "cell_type": "code",
   "execution_count": null,
   "id": "fcb472b3",
   "metadata": {},
   "outputs": [
    {
     "name": "stdout",
     "output_type": "stream",
     "text": [
      "Timed out\n"
     ]
    }
   ],
   "source": [
    "try: python('import time; time.sleep(10)', timeout=1)\n",
    "except TimeoutError: print('Timed out')"
   ]
  },
  {
   "cell_type": "markdown",
   "id": "94ec4289",
   "metadata": {},
   "source": [
    "## Export -"
   ]
  },
  {
   "cell_type": "code",
   "execution_count": null,
   "id": "1e9ee5c1",
   "metadata": {},
   "outputs": [],
   "source": [
    "#|hide\n",
    "#|eval: false\n",
    "from nbdev.doclinks import nbdev_export\n",
    "nbdev_export()"
   ]
  },
  {
   "cell_type": "code",
   "execution_count": null,
   "id": "207f9715",
   "metadata": {},
   "outputs": [],
   "source": []
  }
 ],
 "metadata": {
  "kernelspec": {
   "display_name": "Python 3 (ipykernel)",
   "language": "python",
   "name": "python3"
  }
 },
 "nbformat": 4,
 "nbformat_minor": 5
}
